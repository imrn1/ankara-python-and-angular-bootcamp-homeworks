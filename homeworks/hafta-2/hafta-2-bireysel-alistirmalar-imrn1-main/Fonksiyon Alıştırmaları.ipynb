{
 "cells": [
  {
   "cell_type": "markdown",
   "metadata": {},
   "source": [
    "<ul>\n",
    "\t<li>Fonksiyona verilen en küçük parametreyi bulma</li>\n",
    "\t<li>Fibonacci sayıları</li>\n",
    "\t<li>Satranç atının gidebileceği kareler</li>\n",
    "\t<li>Karekök fonksiyonu</li>\n",
    "\t<li>Machin formülü ile pi'yi bulmak</li>\n",
    "\t<li>İkinci derece denklem kökleri</li>\n",
    "\t<li>Mükemmel sayılar</li>\n",
    "</ul>\n",
    "\n",
    "En küçük parametre değeri\n",
    "-------------------\n",
    "Belirsiz sayıda sayısal parametre alıp, parametreler arasındaki en küçük değeri geri veren bir fonksiyon yazın. (İpucu: Parametre paketlemesi kullandığımızda bütün parametrelerin fonksiyon içinde bir çokuza toplandığını görmüştük. Bu çokuz üzerinde bir döngüyle en küçük değeri bulabilirsiniz.)\n",
    "\n",
    "Örnekler:\n",
    "\n",
    "    enkucuk(7)\n",
    "    7\n",
    "    \n",
    "    enkucuk(3,1,4)\n",
    "    1\n",
    "    \n",
    "    enkucuk(1,2,3,-1,4,-2,5)\n",
    "    -2\n",
    "Parametre listesi boş ise `None` dönsün (`return None` komutunu kullanın).\n",
    "\n",
    "    enkucuk()\n",
    "    None\n",
    "\n",
    "Fibonacci sayıları\n",
    "--------------------\n",
    "İlk `n` Fibonacci sayısını bir liste halinde veren bir fonksiyon yazın. Örnekler:\n",
    "\n",
    "    fib(0)\n",
    "    []\n",
    "    \n",
    "    fib(1)\n",
    "    [1]\n",
    "    \n",
    "    fib(2)\n",
    "    [1, 1]\n",
    "    \n",
    "    fib(10)\n",
    "    [1, 1, 2, 3, 5, 8, 13, 21, 34, 55]\n",
    "\n",
    "Satranç atının hareketi\n",
    "---------------------------\n",
    "Satranç tahtasında at L biçiminde hareket eder: Şekilde gösterildiği gibi bir yönde iki kare, sonra ona dik olarak bir kare.\n",
    "\n",
    "<img src=\"img/satranc_at.png\" />\n",
    "\n",
    "Atın tahtadaki pozisyonunu iki parametre olarak alan ve gidebileceği karelerin listesini veren bir fonksiyon yazın. Her kareyi bir ikili çokuzla gösterin, `('a',1)`, `('g',5)` gibi. At tahtanın sınırlarına yakınsa, tahtanın dışına çıkacak hamleleri eleyin.\n",
    "\n",
    "Örnek:\n",
    "    \n",
    "    athareket('d', 7)\n",
    "    [('c',5),('e',5),('b',6),('f',6),('b',8),('f',8)]\n",
    "    \n",
    "    athareket('f',3)\n",
    "    [('d',2),('d',4),('e',1),('e',5),('g',5),('g',1),('h',4),('h',2)]\n",
    "\n",
    "Karekök fonksiyonu\n",
    "---------------------\n",
    "Verilen bir $N$ sayısının karekökünü bulmak için Babil döneminden beri kullanılan tekrarlamalı (iteratif) bir yöntem vardır: Önce, karekök için bir tahminde bulunun ve buna $x_0$ deyin. Bir sonraki tahminimiz\n",
    "$$x_1 = \\frac{1}{2}\\left(x_0 + N/x_0\\right)$$\n",
    "olacak. Genel olarak,\n",
    "$$x_{n+1} = \\frac{1}{2}\\left(x_n + N/x_n\\right)$$\n",
    "kuralıyla ardışık iterasyonlar yaparsak, $x_n$ değerleri hızlıca $N$'nin kareköküne yakınsayacaktır.\n",
    "\n",
    "Bu yöntem, fonksiyon köklerini bulmak için kullanılan en iyi algoritmalardan biri olan Newton yönteminin özel bir durumudur.\n",
    "\n",
    "Bu algoritmayı kullanarak, bir sayının karekökünü veren bir fonksiyon yazın.\n",
    "\n",
    "Parametreler:\n",
    "* Karekökü alınacak sayı `N`.\n",
    "* İlk tahmin `x0`.\n",
    "* Tolerans `tol`. Varsayılan değer $10^{-10}$.\n",
    "* Azami iterasyon sayısı `maxiter`. Varsayılan değer 10.\n",
    "\n",
    "Sonuç:\n",
    "* `N`'nin karekökü için en iyi tahmin\n",
    "\n",
    "Fonksiyon içinde, yukarıdaki formülü tekrar tekrar işleterek daha iyi tahminlere ulaşan bir döngü yazın. Her adıımda, hata değeri $|x_n^2 - N|$ ile tolerans `tol` karşılaştırılsın. Hata,i toleransın altına düşünce döngü sonlansın. Ayrıca, döngü iterasyonları sayısı `maxiter`'den fazla olursa yine döngü sonlansın. Bu durumda bir uyarı mesajı ekrana yazılsın ve fonksiyon döngüde elde edilen son sonucu versin. \n",
    "\n",
    "Örnekler:\n",
    "\n",
    "    karekok(N=10, x0=1)\n",
    "    3.162277660168379\n",
    "    \n",
    "    karekok(N=10000, x0=0.1)\n",
    "    10 iterasyonda sonuca ulaşılamadı. 'hata' veya 'maxiter' değerlerini değiştirin\n",
    "    103.38412392442035\n",
    "    \n",
    "    karekok(N=10000, x0=0.1, maxiter=15)\n",
    "    100.0\n",
    "    \n",
    "Machin formülü ile Pi sayısı\n",
    "--------------------------------\n",
    "Pi sayısını hesaplamak için birçok yöntem vardır. Bunların hepsi teorik olarak $\\pi$'ye eşit olsalar da, bazıları belli bir hassasiyete ulaşmak için çok fazla hesap gerektirdikleri için pratikte işe yaramazlar. 1706'da John Machin $\\pi$ sayısı için hızlı yakınsayan, böylelikle az sayıda terimle yüksek doğruluk sağlayan bir formül yayınladı.\n",
    "\n",
    "$$\\pi = 16 \\arctan \\frac{1}{5} - 4 \\arctan \\frac{1}{239}$$\n",
    "\n",
    "Bu formüldeki arktanjant fonksiyonunu hesaplamak için bir Taylor serisi kullanılabilir.\n",
    "\n",
    "$$\\arctan x = x - \\frac{1}{3}x^3 + \\frac{1}{5}x^5 - \\frac{1}{7} x^7 + \\cdots$$\n",
    "\n",
    "Machin formülünde arktanjantı alınan sayılar küçük oldukları için, serinin az sayıda elemanıyla yüksek hassasiyeti sağlamak mümkün olacaktır.\n",
    "\n",
    "Machin formülü ile $\\pi$ sayısını yaklaşık olarak hesaplayan bir fonksiyon yazın. Fonksiyon sadece tolerans değerini parametre olarak alsın (varsayılan değer $10^{-8}$). Arktanjant fonksiyonu için matematik kütüphanesi kullanmayın, Taylor serisindeki terimleri gerekli toleransı sağlayana kadar ekleyin. Yeni eklenen terim toleransın altına düştüğünde durun.\n",
    "\n",
    "İkinci derece denklemin kökleri\n",
    "--------------------------------\n",
    "\n",
    "Bir $x$ değişkeni için genel ikinci derece denklem $ax^2 + bx + c = 0$ olarak ifade edilir. Eğer $a\\neq 0$ ise, denklemin iki kökü\n",
    "\n",
    "$$x_{1,2} = \\frac{-b \\pm \\sqrt{b^2-4ac}}{2a}$$\n",
    "\n",
    "formülüyle bulunur. Eğer $a=0$ ise çözüm $x = -c/b$ olur.\n",
    "\n",
    "Denklemin katsayıları `a`, `b` ve `c`'yi parametre olarak alan ve denklemin köklerini (ikili çokuz olarak) veren bir fonksiyon yazın. Fonksiyon `a`'nın 0 olduğu özel durumda tekli çokuz vermeli.\n",
    "\n",
    "Diskriminantın ($b^2 -4ac$) negatif olduğu durumlarda kökler reel sayı değil karmaşık sayı olacaktır. Bu durumlarda da fonksiyonun hatasız çalışması için, karmaşık sayıli matematik kütüphanesini `import cmath` komutuyla yükleyip, karekök almak için `cmath.sqrt()` fonksiyonunu kullanabilirsiniz.\n",
    "\n",
    "Örnekler:\n",
    "\n",
    "    kökler(1,0,-4)\n",
    "    ((2+0j), (-2+0j))\n",
    "    \n",
    "    kökler(1,0,4)\n",
    "    (2j, -2j)\n",
    "    \n",
    "    kökler(0,1,4)\n",
    "    -4.0\n",
    "\n",
    "Mükemmel sayılar\n",
    "------------------\n",
    "Bir sayı bütün çarpanlarının (1 dahil, kendisi hariç) toplamına eşitse, o sayıya _mükemmel sayı_ denir. Sözgelişi, 1+2+3=6 olduğundan, 6 bir mükemmel sayıdır.\n",
    "\n",
    "Verilen bir sayı \"mükemmel\"se `True`, değilse `False` veren bir fonksiyon yazın. Örnek:\n",
    "\n",
    "    mukemmel(6)\n",
    "    True\n",
    "    \n",
    "    mukemmel(10)\n",
    "    False\n",
    "    \n",
    "Bu fonksiyonu kullanarak, 10 000'den küçük bütün \"mükemmel\" sayıları bulun."
   ]
  },
  {
   "cell_type": "markdown",
   "metadata": {
    "collapsed": true
   },
   "source": [
    "# Çözümler"
   ]
  },
  {
   "cell_type": "markdown",
   "metadata": {},
   "source": [
    "# En küçük parametre değeri"
   ]
  },
  {
   "cell_type": "code",
   "execution_count": 2,
   "metadata": {},
   "outputs": [
    {
     "name": "stdout",
     "output_type": "stream",
     "text": [
      "None\n",
      "7\n",
      "1\n",
      "-2\n"
     ]
    }
   ],
   "source": [
    "def min_bul(*sayılar):\n",
    "    if len(sayılar) == 0:\n",
    "        return None\n",
    "    return min(sayılar)\n",
    "\n",
    "print(min_bul())\n",
    "print(min_bul(7))\n",
    "print(min_bul(3,1,4))\n",
    "print(min_bul(1,2,3,-1,4,-2,5))\n"
   ]
  },
  {
   "cell_type": "markdown",
   "metadata": {},
   "source": [
    "# Fibonacci sayıları"
   ]
  },
  {
   "cell_type": "code",
   "execution_count": 3,
   "metadata": {},
   "outputs": [
    {
     "name": "stdout",
     "output_type": "stream",
     "text": [
      "[]\n",
      "[1]\n",
      "[1, 1]\n",
      "[1, 1, 2]\n",
      "[1, 1, 2, 3, 5, 8, 13]\n"
     ]
    }
   ],
   "source": [
    "def fib(n):\n",
    "    d=[]\n",
    "    a,b=0,1\n",
    "    for i in range(n):\n",
    "        a,b = b,a+b\n",
    "        d.append(a)\n",
    "    return d\n",
    "\n",
    "print(fib(0))        \n",
    "print(fib(1))  \n",
    "print(fib(2))  \n",
    "print(fib(3))\n",
    "print(fib(7)) "
   ]
  },
  {
   "cell_type": "markdown",
   "metadata": {},
   "source": [
    "# Satranç atının hareketi"
   ]
  },
  {
   "cell_type": "code",
   "execution_count": 4,
   "metadata": {},
   "outputs": [
    {
     "name": "stdout",
     "output_type": "stream",
     "text": [
      "[('e', 5), ('c', 5), ('f', 6), ('f', 8), ('b', 6), ('b', 8)]\n",
      "[('g', 1), ('g', 5), ('e', 1), ('e', 5), ('h', 2), ('h', 4), ('d', 2), ('d', 4)]\n"
     ]
    }
   ],
   "source": [
    "def athareket(k,l):\n",
    "\n",
    "    harf =['a','b','c','d','e','f','g','h']\n",
    "    sayilar =[8,7,6,5,4,3,2,1]\n",
    "\n",
    "    k = harf.index(k)\n",
    "    l = sayilar.index(l)\n",
    "\n",
    "    d = []\n",
    "    a,b = 1,2\n",
    "\n",
    "    for c in range(1,3):\n",
    "        x,y = k,l\n",
    "        for i in range(2): # i:0 => x+  | i:1 => x-        \n",
    "            if i==0:\n",
    "                x+=a\n",
    "            else:\n",
    "                x-=a\n",
    "            if x in range(8):    \n",
    "                if y+b in range(8):\n",
    "                    d.append((harf[x],sayilar[y+b]))\n",
    "                if y-b in range(8):\n",
    "                    d.append((harf[x],sayilar[y-b]))\n",
    "            x,y = k,l\n",
    "        a,b=b,a  \n",
    "    return d      \n",
    "\n",
    "print(athareket('d',7))    \n",
    "\n",
    "print(athareket('f',3))   "
   ]
  },
  {
   "cell_type": "markdown",
   "metadata": {},
   "source": [
    "# Karekök fonksiyonu"
   ]
  },
  {
   "cell_type": "code",
   "execution_count": 5,
   "metadata": {},
   "outputs": [
    {
     "name": "stdout",
     "output_type": "stream",
     "text": [
      "10 iterasyonda sonuca ulaşılamadı. 'hata' veya 'maxiter' değerlerini değiştirin.\n",
      "129.61915927068787 \n",
      "\n",
      "3.162277660168379 \n",
      "\n",
      "100.0 \n",
      "\n"
     ]
    }
   ],
   "source": [
    "def karekok(N, x0, maxiter=10):\n",
    "    \n",
    "    x=x0\n",
    "    n = 0\n",
    "\n",
    "    tol=1e-10\n",
    "\n",
    "    while abs(pow(x,2)-N) > tol:\n",
    "\n",
    "        if n == maxiter:\n",
    "            print(f\"{maxiter} iterasyonda sonuca ulaşılamadı. 'hata' veya 'maxiter' değerlerini değiştirin.\")\n",
    "            # print(x)\n",
    "            break\n",
    "      \n",
    "        if abs(pow(x,2)-N) == 0 or abs(pow(x,2)-N) <= tol:\n",
    "            break\n",
    "        x = 0.5 * (x + N/x)\n",
    "        n+=1\n",
    "    print(x,\"\\n\")\n",
    "    # print(\"n:\",n)    \n",
    "\n",
    "karekok(N=10000, x0=0.1)\n",
    "\n",
    "karekok(N=10, x0=1)\n",
    "\n",
    "karekok(N=10000, x0=0.1, maxiter=15)"
   ]
  },
  {
   "cell_type": "code",
   "execution_count": null,
   "metadata": {},
   "outputs": [],
   "source": []
  }
 ],
 "metadata": {
  "kernelspec": {
   "display_name": "Python 3",
   "language": "python",
   "name": "python3"
  },
  "language_info": {
   "codemirror_mode": {
    "name": "ipython",
    "version": 3
   },
   "file_extension": ".py",
   "mimetype": "text/x-python",
   "name": "python",
   "nbconvert_exporter": "python",
   "pygments_lexer": "ipython3",
   "version": "3.7.9"
  }
 },
 "nbformat": 4,
 "nbformat_minor": 2
}

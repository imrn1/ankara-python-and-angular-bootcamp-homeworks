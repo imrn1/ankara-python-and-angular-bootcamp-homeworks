{
 "cells": [
  {
   "cell_type": "markdown",
   "metadata": {},
   "source": [
    "# grup-4\n",
    "Fatma Nur Arslan,\n",
    "\n",
    "Gupse İman Balkar,\n",
    "\n",
    "İmran Aykut,\n",
    "\n",
    "Kutay Mehmet Özkoç,\n",
    "\n",
    "Osman Şerif"
   ]
  },
  {
   "cell_type": "markdown",
   "metadata": {},
   "source": [
    "# Bölüm A"
   ]
  },
  {
   "cell_type": "markdown",
   "metadata": {},
   "source": [
    "Bu alıştırma için arkadaşlarımızın doğum günlerinin ne zaman olduğunu takip edeceğiz ve bu bilgileri isimlerine göre bulabileceğiz. İsim ve doğum günlerinden oluşan bir sözlük (dosyası) oluşturalım. Programımızı çalıştırdığınızda, kullanıcıdan bir isim girmesini ve o kişinin doğum gününü kendisine bildirmesini istemelidir. Etkileşim şunun gibi görünmelidir:\n",
    "\n",
    "```python\n",
    ">>> Doğum günü sözlüğüne hoş geldiniz. Bu kişilerin doğum günlerini biliyoruz:\n",
    "Kemal Sunal\n",
    "Adile Naşit\n",
    "Münir Özkul\n",
    "Türkan Şoray\n",
    ">>> Hangisinin doğum gününü öğrenmek istersin?\n",
    "Türkan Şoray\n",
    ">>> Türkan Şoray'ın doğum günü 28/07/1945.\n",
    "```"
   ]
  },
  {
   "cell_type": "markdown",
   "metadata": {},
   "source": [
    "# Çözüm"
   ]
  },
  {
   "cell_type": "code",
   "execution_count": 1,
   "metadata": {},
   "outputs": [
    {
     "name": "stdout",
     "output_type": "stream",
     "text": [
      "Doğum günü sözlüğüne hoş geldiniz. Bu kişilerin doğum günlerini biliyoruz:\n",
      "Kemal Sunal\n",
      "Adile Naşit\n",
      "Münir Özkul\n",
      "Türkan Şoray\n",
      "Hangisinin doğum gününü öğrenmek istersin?\n",
      "Türkan Şoray\n",
      "Türkan Şoray'ın dogum günü 28/07/1945.\n"
     ]
    }
   ],
   "source": [
    "d = {\n",
    "    \"Kemal Sunal\":\"10/11/1944\",\n",
    "    \"Adile Naşit\":\"17/6/1930\",\n",
    "    \"Münir Özkul\":\"15/8/1925\",\n",
    "    \"Türkan Şoray\":\"28/07/1945\",\n",
    "}\n",
    "\n",
    "print(\"Doğum günü sözlüğüne hoş geldiniz. Bu kişilerin doğum günlerini biliyoruz:\")\n",
    "for t in d:\n",
    "    print(t)\n",
    "x = input(\"Hangisinin doğum gününü öğrenmek istersin?\\n\")\n",
    "print(f\"{x}'ın dogum günü {d[x]}.\")\n"
   ]
  },
  {
   "cell_type": "markdown",
   "metadata": {},
   "source": [
    "# Bölüm B"
   ]
  },
  {
   "cell_type": "markdown",
   "metadata": {},
   "source": [
    "Bir Pisagor üçlüsü, üç doğal sayı kümesidir, $a <b <c$, için,\n",
    "\n",
    "$$a^{2}+b^{2}=c^{2}$$\n",
    "\n",
    "Örneğin, $3^{2}+4^{2} = 9+16 = 5^{2}$\n",
    "\n",
    "Toplamı $a + b + c = 1000$ olan tam olarak bir Pisagor üçlüsü vardır.\n",
    "\n",
    "$abc$ çarpımını bulalım."
   ]
  },
  {
   "cell_type": "markdown",
   "metadata": {},
   "source": [
    "# Çözüm"
   ]
  },
  {
   "cell_type": "code",
   "execution_count": 4,
   "metadata": {},
   "outputs": [
    {
     "name": "stdout",
     "output_type": "stream",
     "text": [
      "a:200 b:375 c:425.0 \n",
      "a*b*c=31875000.0\n"
     ]
    }
   ],
   "source": [
    "import math\n",
    "\n",
    "for a in range(3,500):\n",
    "    for b in range(4,500):\n",
    "        if a<b:\n",
    "            if a+b+ math.sqrt((a**2 + b**2)) == 1000:\n",
    "                print(f\"a:{a} b:{b} c:{math.sqrt((a**2 + b**2))} \\na*b*c={a*b*math.sqrt((a**2 + b**2))}\")\n"
   ]
  },
  {
   "cell_type": "code",
   "execution_count": null,
   "metadata": {},
   "outputs": [],
   "source": []
  }
 ],
 "metadata": {
  "kernelspec": {
   "display_name": "Python 3",
   "language": "python",
   "name": "python3"
  },
  "language_info": {
   "codemirror_mode": {
    "name": "ipython",
    "version": 3
   },
   "file_extension": ".py",
   "mimetype": "text/x-python",
   "name": "python",
   "nbconvert_exporter": "python",
   "pygments_lexer": "ipython3",
   "version": "3.7.6"
  }
 },
 "nbformat": 4,
 "nbformat_minor": 4
}

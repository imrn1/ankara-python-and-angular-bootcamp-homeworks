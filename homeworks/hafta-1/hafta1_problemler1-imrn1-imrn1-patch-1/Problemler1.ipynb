{
 "cells": [
  {
   "cell_type": "markdown",
   "metadata": {},
   "source": [
    "# grup-4\n",
    "Fatma Nur Arslan,\n",
    "\n",
    "\n",
    "Gupse İman Balkar,\n",
    "\n",
    "\n",
    "İmran Aykut,\n",
    "\n",
    "\n",
    "Kutay Mehmet Özkoç,\n",
    "\n",
    "\n",
    "Osman Şerif"
   ]
  },
  {
   "cell_type": "markdown",
   "metadata": {},
   "source": [
    "# Bölüm A"
   ]
  },
  {
   "cell_type": "markdown",
   "metadata": {},
   "source": [
    "Üniversiteden mezun oldunuz ve şimdi harika bir işiniz var! İstanbul'da Etiler'e taşınıyorsunuz ve bir ev satın almak için tasarruf etmeye başlamak istediğinize karar veriyorsunuz. Etiler'de konut fiyatları çok yüksek olduğu için, bir evin peşinatını ödeyebilmeniz için birkaç yıl tasarruf etmeniz gerekeceğini fark ediyorsunuz. Bölüm A'da, aşağıdaki varsayımlara göre peşinatı ödemeye yetecek kadar para biriktirmenizin ne kadar süreceğini belirleyeceğiz:"
   ]
  },
  {
   "cell_type": "markdown",
   "metadata": {},
   "source": [
    "* 1.Hayalinizdeki evin maliyetini `toplam_maliyet` olarak tanımlayalım.\n",
    "* 2.Maliyetin peşinatı için gereken kısmı `peşinat_oranı` olarak tanımlayalım. Basit olması için, `peşinat_oranı = 0.25 (% 25)` olarak varsayalım.\n",
    "* 3. Şu ana kadar biriktirdiğiniz tutarı `mevcut_tasarruflar` olarak adlandıralım. Varsayıaln olarak 0 TL'lik mevcut * tasarrufla başlarsınız.\n",
    "* 4. Mevcut birikimlerinize akıllıca yatırım yaptığımızı ve yıllık `r` cinsinden (diğer bir deyişle, her ayın sonunda, birikimlerinize koymak için ek bir `mevcut_tasarruflar * r / 12` fon aldığınızı varsayalım - 12 yıllık bir orandır). Yatırımlarımızın r = 0,04 (% 4) getiri kazandığını varsayalım.\n",
    "* 5. Yıllık maaşımızın `yıllık_maaş` olduğunu varsayalım.\n",
    "* 6. Her ay maaşımızın belirli bir miktarını peşinat için biriktirmeye ayıracağımızı varsayalım. Bunu `tasarruf_edilen_oran` olarak adlandıralım. Bu değişken ondalık biçimde olmalıdır (yani % 10 için 0,1).\n",
    "* 7. Her ayın sonunda, yatırımımızın geri dönüşü artı **aylık maaş**ımızın bir yüzdesi (yıllık maaş / 12) ile tasarruflarınız artırılacaktır."
   ]
  },
  {
   "cell_type": "markdown",
   "metadata": {},
   "source": [
    "Peşinat için yeterince para biriktirmemizin kaç ay süreceğini hesaplamak için bir program yazalım. Ana değişkenlerimizin `float` olmasını isteyeceğizdir, bu nedenle kullanıcı girdilerini `float`'lara çevirmelisiyiz."
   ]
  },
  {
   "cell_type": "markdown",
   "metadata": {},
   "source": [
    "Programımız, kullanıcıdan aşağıdaki değişkenleri girmesini istemelidir:\n",
    "* 1. Yıllık başlangıç maaşı (**yıllık_maaş**)\n",
    "* 2. Maaşın biriktirilecek kısmı (**tasarruf_edilen_oran**)\n",
    "* 3. Hayalimizdeki evin maliyeti (**toplam_maliyet**)"
   ]
  },
  {
   "cell_type": "markdown",
   "metadata": {},
   "source": [
    "**İpucu**\n",
    "\n",
    "Başlamamıza yardımcı olmak için, kodumuzu yazarken muhtemelen izlememiz gereken aşamaların kabaca bir özetini burada bulabiliriz:\n",
    "\n",
    "* Kullanıcı girdisini alalım. Kullanıcı girdisi alma konusunda yardıma ihtiyacımız varsa `input()` öğesine bakalım. Bu problem seti için, kullanıcıların geçerli bir girdi gireceğini varsayabiliriz (örneğin, bir `int` beklediğinizde bir `dize` girmeyeceklerdir)\n",
    "* Bazı durum değişkenlerini (state variables) baştan tanımlayalım. Hangi bilgilere ihtiyacımız olduğuna karar vermeliyiz. Yıllık tutarları ve aylık tutarları temsil eden değerlere dikkat edelim."
   ]
  },
  {
   "cell_type": "markdown",
   "metadata": {},
   "source": [
    "Farklı girdileri deneyelim ve bir peşinat için tasarruf etmenin ne kadar sürdüğünü görelim. Programımız sonuçları aşağıdaki formatta vermelidir:\n",
    "\n",
    "Örnek 1:\n",
    "\n",
    "```python\n",
    "Yıllık maaşınızı girin: 120000\n",
    "Maaşınızın tasarruf etmek istediğiniz yüzdesini, ondalık olarak girin: .10\n",
    "Hayalinizdeki evin maliyetini girin: 1000000\n",
    "Ay sayısı: 183 \n",
    "```\n",
    "\n",
    "Örnek 2:\n",
    "```python\n",
    "Yıllık maaşınızı girin: 80000\n",
    "Maaşınızın tasarruf etmek istediğiniz yüzdesini, ondalık olarak girin: .15\n",
    "Hayalinizdeki evin maliyetini girin: 500000\n",
    "Ay sayısı: 105 \n",
    "```"
   ]
  },
  {
   "cell_type": "markdown",
   "metadata": {},
   "source": [
    "# Bölüm B"
   ]
  },
  {
   "cell_type": "markdown",
   "metadata": {},
   "source": [
    "Bölüm A'da gerçekçi olmayan bir biçimde maaşımızın değişmediğini varsaydık. Fakat gerçekten iyi çalışıyruz ve şirketimiz için oldukça değerliyiz. Bölüm A'daki çözümümüz üzerine, her 6 ayda bir maaşımıza zam yapıldığını varsayacağız."
   ]
  },
  {
   "cell_type": "markdown",
   "metadata": {},
   "source": [
    "Bölüm A'da yazdığımız programı geliştirelim:\n",
    "\n",
    "* 1. Kulanıcıdan yarıyıl maaş zammı oranını `yaryıyıl_maaş_zammı_oranı` (ondalık yüzde olarak) girdi olarak alalım.\n",
    "* 2. 6-ıncı aydan sonra maaşımız bu yüzde ile artsın. Aynı artış, 12-inci aydan sonra da, 18-inci aydan sonra da vs. gerçekleşsin."
   ]
  },
  {
   "cell_type": "markdown",
   "metadata": {},
   "source": [
    "Peşinat için yeterince para biriktirmenin kaç ay süreceğini hesaplamak için bir program yazalım. Daha önce, yatırımlarımızın r = 0,04 (veya % 4) getiri kazandığını ve gerekli peşinat yüzdesinin 0,25 (veya % 25) olduğunu varsayalım. Kullanıcı aşağıdaki değişkenleri girsin:\n",
    "\n",
    "* 1. Yıllık başlangıç maaşı (**yıllık_maaş**)\n",
    "* 2. Maaşın biriktirilecek kısmı (**tasarruf_edilen_oran**)\n",
    "* 3. Hayalimizdeki evin maliyeti (**toplam_maliyet**)\n",
    "* 4. Yarıyıl maaş oranı (**yarıyıl_maaş_zammı_oranı**)"
   ]
  },
  {
   "cell_type": "markdown",
   "metadata": {},
   "source": [
    "**İpucu**\n",
    "\n",
    "Başlamamıza yardımcı olmak için, kodumuzu yazarken muhtemelen izlememiz gereken aşamaların kabaca bir özetini burada bulabiliriz:\n",
    "\n",
    "* Kullanıcıdan girdileri alalım.\n",
    "* Bazı durum değişkenlerini (state variables) baştan tanımlayalım. Hangi bilgilere ihtiyacımız olduğuna karar vermeliyiz. Yıllık tutarları ve aylık tutarları temsil eden değerlere dikkat edelim.\n",
    "* Maaşınızı ne zaman artıracağınıza dikkat edelim - bu yalnızca 6., 12., 18. aydan sonra olmalıdır."
   ]
  },
  {
   "cell_type": "code",
   "execution_count": 1,
   "metadata": {},
   "outputs": [],
   "source": [
    "#Bolum A"
   ]
  },
  {
   "cell_type": "code",
   "execution_count": 3,
   "metadata": {},
   "outputs": [
    {
     "name": "stdout",
     "output_type": "stream",
     "text": [
      "Yıllık maaşınızı girin:  120000\n",
      "Maaşınızın tasarruf etmek istediğiniz yüzdesini, ondalık olarak girin:  .10\n",
      "Hayalinizdeki evin maliyetini girin:  1000000\n",
      "Ay sayısı: 183\n"
     ]
    }
   ],
   "source": [
    "yıllık_maaş = float(input('Yıllık maaşınızı girin:  '))\n",
    "tasarruf_edilen_oran = float(input('Maaşınızın tasarruf etmek istediğiniz yüzdesini, ondalık olarak girin:  '))\n",
    "toplam_maliyet = float(input('Hayalinizdeki evin maliyetini girin:  '))   \n",
    "\n",
    "\n",
    "mevcut_tasarruf = 0 \n",
    "Peşinatın_bir_kısmı = 0.25 * toplam_maliyet\n",
    "\n",
    "r = 0.04 \n",
    "yıllık_başlangıç = (mevcut_tasarruf * r) / 12\n",
    "aylık_maaş = yıllık_maaş / 12\n",
    "tasarruf_edilen_oran = tasarruf_edilen_oran * aylık_maaş \n",
    "zaman = 0\n",
    "\n",
    "\n",
    "while (mevcut_tasarruf <= Peşinatın_bir_kısmı):\n",
    "    zaman += 1\n",
    "    mevcut_tasarruf += (mevcut_tasarruf * r / 12) + tasarruf_edilen_oran    \n",
    "print('Ay sayısı: %d'%zaman)"
   ]
  },
  {
   "cell_type": "code",
   "execution_count": null,
   "metadata": {},
   "outputs": [],
   "source": []
  },
  {
   "cell_type": "code",
   "execution_count": null,
   "metadata": {},
   "outputs": [],
   "source": [
    "#Bolum B"
   ]
  },
  {
   "cell_type": "code",
   "execution_count": null,
   "metadata": {},
   "outputs": [],
   "source": [
    "yıllık_maaş = float(input(\"Yıllık maaşınızı girin: \"))\n",
    "tasarruf_edilen_oran = float(input(\"Maaşınızın tasarruf etmek istediğiniz yüzdesini, ondalık olarak girin: \"))\n",
    "toplam_maliyet = float(input(\"Hayalinizdeki evin maliyetini girin: \"))\n",
    "yarıyıl_maaş_zammı_oranı = float(input(\"yarıyıl maaş zammı oranını ondalık sayı olarak girin: \"))\n",
    "\n",
    "Peşinatın_bir_kısmı = toplam_maliyet * 0.25\n",
    "mevcut_tasarruf = 0\n",
    "r = 0.04\n",
    "Aylar = 0\n",
    "while mevcut_tasarruf < Peşinatın_bir_kısmı:\n",
    "    mevcut_tasarruf += (yıllık_maaş/12)*tasarruf_edilen_oran + mevcut_tasarruf*(r/12)\n",
    "    Aylar += 1\n",
    "    if Aylar%6 == 0:\n",
    "        yıllık_maaş += yıllık_maaş * yarıyıl_maaş_zammı_oranı\n",
    "\n",
    "print(\"Ay sayısı: \", Aylar)"
   ]
  },
  {
   "cell_type": "code",
   "execution_count": null,
   "metadata": {},
   "outputs": [],
   "source": []
  },
  {
   "cell_type": "code",
   "execution_count": null,
   "metadata": {},
   "outputs": [],
   "source": []
  },
  {
   "cell_type": "code",
   "execution_count": null,
   "metadata": {},
   "outputs": [],
   "source": []
  }
 ],
 "metadata": {
  "kernelspec": {
   "display_name": "Python 3",
   "language": "python",
   "name": "python3"
  },
  "language_info": {
   "codemirror_mode": {
    "name": "ipython",
    "version": 3
   },
   "file_extension": ".py",
   "mimetype": "text/x-python",
   "name": "python",
   "nbconvert_exporter": "python",
   "pygments_lexer": "ipython3",
   "version": "3.7.6"
  }
 },
 "nbformat": 4,
 "nbformat_minor": 4
}

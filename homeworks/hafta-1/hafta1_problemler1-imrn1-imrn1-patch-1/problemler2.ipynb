{
 "cells": [
  {
   "cell_type": "markdown",
   "metadata": {},
   "source": [
    "# grup-4\n",
    "Fatma Nur Arslan,\n",
    "\n",
    "Gupse İman Balkar,\n",
    "\n",
    "İmran Aykut,\n",
    "\n",
    "Kutay Mehmet Özkoç,\n",
    "\n",
    "Osman Şerif"
   ]
  },
  {
   "cell_type": "markdown",
   "metadata": {},
   "source": [
    "# Bölüm A"
   ]
  },
  {
   "cell_type": "markdown",
   "metadata": {},
   "source": [
    "İki oyunculu bir Taş-Kağıt-Makas oyunu yapalım.\n",
    "\n",
    "**İpucu:** \n",
    "\n",
    "Oyuncudan oyunlarını isteyip (`input()` kullanarak), karşılaştıralım, kazananı tebrik eden bir mesaj yazdıralım ve oyuncuların yeni bir oyuna başlamak isteyip istemediğini soralım)"
   ]
  },
  {
   "cell_type": "markdown",
   "metadata": {},
   "source": [
    "# Çözüm"
   ]
  },
  {
   "cell_type": "code",
   "execution_count": 2,
   "metadata": {},
   "outputs": [
    {
     "name": "stdout",
     "output_type": "stream",
     "text": [
      "oyuncu-1: taş / kağıt / makas : makas\n",
      "oyuncu-2: taş / kağıt / makas : taş\n",
      "tebrikler oyuncu-2\n",
      "çıkmak için 'x': x\n"
     ]
    }
   ],
   "source": [
    "g = [\"taş\",\"kağıt\",\"makas\"]\n",
    "while True:\n",
    "    oyuncu1 = input(\"oyuncu-1: taş / kağıt / makas : \")\n",
    "    oyuncu2 = input(\"oyuncu-2: taş / kağıt / makas : \")\n",
    "\n",
    "    if oyuncu1 in g and oyuncu2 in g:\n",
    "        if (oyuncu1 == \"taş\" and oyuncu2 == \"makas\") or (oyuncu1 == \"kağıt\" and oyuncu2 == \"taş\") or (oyuncu1 == \"makas\" and oyuncu2 == \"kağıt\"):\n",
    "            print(\"tebrikler oyuncu-1\")\n",
    "        elif oyuncu1 == oyuncu2:\n",
    "            print(\"berabere\")\n",
    "        else:\n",
    "            print(\"tebrikler oyuncu-2\")\n",
    "    else:\n",
    "        print(\"hatalı giriş\")\n",
    "    \n",
    "    x = input(\"çıkmak için 'x': \")\n",
    "    if x == \"x\": break\n"
   ]
  },
  {
   "cell_type": "markdown",
   "metadata": {},
   "source": [
    "# Bölüm B"
   ]
  },
  {
   "cell_type": "markdown",
   "metadata": {},
   "source": [
    "Diyelim ki bize bir değişkene kaydedilmiş bir liste vermiş olsunlar: `a = [1, 4, 9, 16, 25, 36, 49, 64, 81, 100]`. Bu listeyi alan ve içinde bu listenin yalnızca çift öğelerini içeren yeni bir liste oluşturan bir Python satırı yazın (ne kadar az satırda olursa o kadar iyidir :) )."
   ]
  },
  {
   "cell_type": "markdown",
   "metadata": {},
   "source": [
    "# Çözüm"
   ]
  },
  {
   "cell_type": "code",
   "execution_count": 2,
   "metadata": {},
   "outputs": [],
   "source": [
    "a = [1, 4, 9, 16, 25, 36, 49, 64, 81, 100]\n",
    "y = [x for x in a if x%2==0]"
   ]
  },
  {
   "cell_type": "code",
   "execution_count": 3,
   "metadata": {},
   "outputs": [
    {
     "name": "stdout",
     "output_type": "stream",
     "text": [
      "[4, 16, 36, 64, 100]\n"
     ]
    }
   ],
   "source": [
    "print(y)"
   ]
  },
  {
   "cell_type": "code",
   "execution_count": null,
   "metadata": {},
   "outputs": [],
   "source": []
  }
 ],
 "metadata": {
  "kernelspec": {
   "display_name": "Python 3",
   "language": "python",
   "name": "python3"
  },
  "language_info": {
   "codemirror_mode": {
    "name": "ipython",
    "version": 3
   },
   "file_extension": ".py",
   "mimetype": "text/x-python",
   "name": "python",
   "nbconvert_exporter": "python",
   "pygments_lexer": "ipython3",
   "version": "3.7.6"
  }
 },
 "nbformat": 4,
 "nbformat_minor": 4
}
